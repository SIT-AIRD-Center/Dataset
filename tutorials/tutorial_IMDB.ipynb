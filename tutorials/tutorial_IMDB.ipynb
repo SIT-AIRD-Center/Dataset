{
  "cells": [
    {
      "cell_type": "markdown",
      "metadata": {
        "id": "QR_NF7YAcJ8Z"
      },
      "source": [
        "# 映画レビューをネガティブ/ポジティブ分類する"
      ]
    },
    {
      "cell_type": "markdown",
      "metadata": {
        "id": "X9yxncTEctZI"
      },
      "source": [
        "/content/drive/MyDrive/Dataset/にIMDB.csvを配置する"
      ]
    },
    {
      "cell_type": "code",
      "execution_count": 1,
      "metadata": {
        "colab": {
          "base_uri": "https://localhost:8080/"
        },
        "id": "QqKIIYztbyn8",
        "outputId": "d2a85fd0-e50c-4227-fc54-51418b83acca"
      },
      "outputs": [
        {
          "output_type": "stream",
          "name": "stdout",
          "text": [
            "Mounted at /content/drive\n"
          ]
        }
      ],
      "source": [
        "from google.colab import drive\n",
        "drive.mount('/content/drive')"
      ]
    },
    {
      "cell_type": "code",
      "execution_count": 2,
      "metadata": {
        "colab": {
          "base_uri": "https://localhost:8080/",
          "height": 35
        },
        "id": "15oqkpyJb--T",
        "outputId": "871b21a4-8195-4b18-8af8-ddc4e8e523ed"
      },
      "outputs": [
        {
          "output_type": "execute_result",
          "data": {
            "text/plain": [
              "'/content/IMDB.csv'"
            ],
            "application/vnd.google.colaboratory.intrinsic+json": {
              "type": "string"
            }
          },
          "metadata": {},
          "execution_count": 2
        }
      ],
      "source": [
        "import shutil\n",
        "shutil.copyfile(\"/content/drive/MyDrive/Dataset/IMDB.csv\",\n",
        "              \"/content/IMDB.csv\")"
      ]
    },
    {
      "cell_type": "code",
      "execution_count": 3,
      "metadata": {
        "id": "bV3jBwWAcwrP"
      },
      "outputs": [],
      "source": [
        "import re\n",
        "import csv\n",
        "from tqdm import tqdm\n",
        "from sklearn.model_selection import train_test_split\n",
        "import tensorflow as tf\n",
        "from tensorflow.keras import layers, models, optimizers, losses, metrics"
      ]
    },
    {
      "cell_type": "markdown",
      "source": [
        "データを読み込む"
      ],
      "metadata": {
        "id": "3khwDpUieMdG"
      }
    },
    {
      "cell_type": "code",
      "source": [
        "# 文章の最大の長さ\n",
        "max_sentence_length = 256"
      ],
      "metadata": {
        "id": "uKdnpvCrAN8Z"
      },
      "execution_count": 4,
      "outputs": []
    },
    {
      "cell_type": "code",
      "execution_count": 5,
      "metadata": {
        "colab": {
          "base_uri": "https://localhost:8080/"
        },
        "id": "WWgaCxu8c6FX",
        "outputId": "a59edbb0-e5f9-411c-b78e-ba126cfc0aa7"
      },
      "outputs": [
        {
          "output_type": "execute_result",
          "data": {
            "text/plain": [
              "(50000,\n",
              " {'review': \"One of the other reviewers has mentioned that after watching just 1 Oz episode you'll be hooked. They are right, as this is exactly what happened with me.<br /><br />The first thing that struck me about Oz was its brutality and unflinching scenes of violence, which set in right from the word GO. Trust me, this is not a show for the faint hearted or timid. This show pulls no punches with regards to drugs, sex or violence. Its is hardcore, in the classic use of the word.<br /><br />It is called OZ as that is the nickname given to the Oswald Maximum Security State Penitentary. It focuses mainly on Emerald City, an experimental section of the prison where all the cells have glass fronts and face inwards, so privacy is not high on the agenda. Em City is home to many..Aryans, Muslims, gangstas, Latinos, Christians, Italians, Irish and more....so scuffles, death stares, dodgy dealings and shady agreements are never far away.<br /><br />I would say the main appeal of the show is due to the fact that it goes where other shows wouldn't dare. Forget pretty pictures painted for mainstream audiences, forget charm, forget romance...OZ doesn't mess around. The first episode I ever saw struck me as so nasty it was surreal, I couldn't say I was ready for it, but as I watched more, I developed a taste for Oz, and got accustomed to the high levels of graphic violence. Not just violence, but injustice (crooked guards who'll be sold out for a nickel, inmates who'll kill on order and get away with it, well mannered, middle class inmates being turned into prison bitches due to their lack of street skills or prison experience) Watching Oz, you may become comfortable with what is uncomfortable viewing....thats if you can get in touch with your darker side.\",\n",
              "  'sentiment': 1})"
            ]
          },
          "metadata": {},
          "execution_count": 5
        }
      ],
      "source": [
        "datas = list()\n",
        "category_to_index = {\n",
        "    \"negative\" : 0,\n",
        "    \"positive\" : 1\n",
        "}\n",
        "\n",
        "with open(\"/content/IMDB.csv\", \"r\") as f:\n",
        "    r = csv.reader(f)\n",
        "\n",
        "    items = next(iter(r))\n",
        "\n",
        "    for R in r:\n",
        "        datas.append( {\n",
        "            \"review\" : R[0],\n",
        "            \"sentiment\" : category_to_index[R[1]]\n",
        "        } )\n",
        "\n",
        "#\n",
        "len(datas), datas[0]"
      ]
    },
    {
      "cell_type": "markdown",
      "source": [
        "文章を正規化する\n",
        "\n",
        "*   大文字を小文字にする\n",
        "\n",
        "*   記号を取り除く\n",
        "\n",
        "*   \".\"や\",\"を\" .\"や\" ,\"のように記号の前に空白を配置する\n",
        "\n"
      ],
      "metadata": {
        "id": "hizUhVMCePud"
      }
    },
    {
      "cell_type": "code",
      "source": [
        "for D in tqdm(datas):\n",
        "    aligned_review = D[\"review\"].lower()\n",
        "    aligned_review = re.sub(r\"<br />\", \"\", aligned_review)\n",
        "    aligned_review = re.sub(r\"[.,-?\\!\\(\\)\\{\\}\\[\\]\\\"\\'&%$#_\\x85\\x97]\", lambda match: \" \" + match.group(0) + \" \", aligned_review)\n",
        "    D[\"aligned_review\"] = aligned_review\n",
        "\n",
        "datas[0]"
      ],
      "metadata": {
        "colab": {
          "base_uri": "https://localhost:8080/"
        },
        "id": "-HhBx8twfT_M",
        "outputId": "2b7a470b-def8-4114-8982-c37ae12782dc"
      },
      "execution_count": 6,
      "outputs": [
        {
          "output_type": "stream",
          "name": "stderr",
          "text": [
            "100%|██████████| 50000/50000 [00:01<00:00, 27911.08it/s]\n"
          ]
        },
        {
          "output_type": "execute_result",
          "data": {
            "text/plain": [
              "{'review': \"One of the other reviewers has mentioned that after watching just 1 Oz episode you'll be hooked. They are right, as this is exactly what happened with me.<br /><br />The first thing that struck me about Oz was its brutality and unflinching scenes of violence, which set in right from the word GO. Trust me, this is not a show for the faint hearted or timid. This show pulls no punches with regards to drugs, sex or violence. Its is hardcore, in the classic use of the word.<br /><br />It is called OZ as that is the nickname given to the Oswald Maximum Security State Penitentary. It focuses mainly on Emerald City, an experimental section of the prison where all the cells have glass fronts and face inwards, so privacy is not high on the agenda. Em City is home to many..Aryans, Muslims, gangstas, Latinos, Christians, Italians, Irish and more....so scuffles, death stares, dodgy dealings and shady agreements are never far away.<br /><br />I would say the main appeal of the show is due to the fact that it goes where other shows wouldn't dare. Forget pretty pictures painted for mainstream audiences, forget charm, forget romance...OZ doesn't mess around. The first episode I ever saw struck me as so nasty it was surreal, I couldn't say I was ready for it, but as I watched more, I developed a taste for Oz, and got accustomed to the high levels of graphic violence. Not just violence, but injustice (crooked guards who'll be sold out for a nickel, inmates who'll kill on order and get away with it, well mannered, middle class inmates being turned into prison bitches due to their lack of street skills or prison experience) Watching Oz, you may become comfortable with what is uncomfortable viewing....thats if you can get in touch with your darker side.\",\n",
              " 'sentiment': 1,\n",
              " 'aligned_review': \"one of the other reviewers has mentioned that after watching just  1  oz episode you ' ll be hooked .  they are right ,  as this is exactly what happened with me . the first thing that struck me about oz was its brutality and unflinching scenes of violence ,  which set in right from the word go .  trust me ,  this is not a show for the faint hearted or timid .  this show pulls no punches with regards to drugs ,  sex or violence .  its is hardcore ,  in the classic use of the word . it is called oz as that is the nickname given to the oswald maximum security state penitentary .  it focuses mainly on emerald city ,  an experimental section of the prison where all the cells have glass fronts and face inwards ,  so privacy is not high on the agenda .  em city is home to many .  . aryans ,  muslims ,  gangstas ,  latinos ,  christians ,  italians ,  irish and more .  .  .  . so scuffles ,  death stares ,  dodgy dealings and shady agreements are never far away . i would say the main appeal of the show is due to the fact that it goes where other shows wouldn ' t dare .  forget pretty pictures painted for mainstream audiences ,  forget charm ,  forget romance .  .  . oz doesn ' t mess around .  the first episode i ever saw struck me as so nasty it was surreal ,  i couldn ' t say i was ready for it ,  but as i watched more ,  i developed a taste for oz ,  and got accustomed to the high levels of graphic violence .  not just violence ,  but injustice  ( crooked guards who ' ll be sold out for a nickel ,  inmates who ' ll kill on order and get away with it ,  well mannered ,  middle class inmates being turned into prison bitches due to their lack of street skills or prison experience )  watching oz ,  you may become comfortable with what is uncomfortable viewing .  .  .  . thats if you can get in touch with your darker side . \"}"
            ]
          },
          "metadata": {},
          "execution_count": 6
        }
      ]
    },
    {
      "cell_type": "markdown",
      "source": [
        "単語をIDに変換する(Tokenize)\n",
        "\n",
        "この際，文章の最大の長さを超過するデータは使用しない"
      ],
      "metadata": {
        "id": "_p79StJo_YQn"
      }
    },
    {
      "cell_type": "code",
      "source": [
        "words = list()\n",
        "tmp_datas = list()\n",
        "\n",
        "for D in tqdm(datas):\n",
        "    parsed_review = D[\"aligned_review\"].split(\" \")\n",
        "    tmp = list()\n",
        "    for W in parsed_review:\n",
        "        if len(W) != 0:\n",
        "            tmp.append(W)\n",
        "    parsed_review = tmp\n",
        "\n",
        "    if len(parsed_review) <= max_sentence_length - 2:\n",
        "        tmp_datas.append(D)\n",
        "        tmp_datas[-1][\"parsed_review\"] = parsed_review\n",
        "        words += parsed_review\n",
        "words = set(words)\n",
        "\n",
        "word_to_index = {\n",
        "    W : i + 3 for i, W in enumerate(words)\n",
        "}\n",
        "word_to_index[\"<PADDING>\"] = 0\n",
        "word_to_index[\"<START>\"] = 1\n",
        "word_to_index[\"<END>\"] = 2\n",
        "\n",
        "for D in tqdm(tmp_datas):\n",
        "    tmp = list()\n",
        "    for W in D[\"parsed_review\"]:\n",
        "        tmp.append( word_to_index[W] )\n",
        "    tmp = [1] + tmp + [2]\n",
        "    D[\"tokenized_review\"] = tmp\n",
        "\n",
        "len(tmp_datas), len(words)"
      ],
      "metadata": {
        "colab": {
          "base_uri": "https://localhost:8080/"
        },
        "id": "bO1Th1q9_bJL",
        "outputId": "6e38a1af-3031-4ebe-9048-96f5033532fb"
      },
      "execution_count": 7,
      "outputs": [
        {
          "output_type": "stream",
          "name": "stderr",
          "text": [
            "100%|██████████| 50000/50000 [00:07<00:00, 6760.55it/s] \n",
            "100%|██████████| 31072/31072 [00:01<00:00, 26372.78it/s]\n"
          ]
        },
        {
          "output_type": "execute_result",
          "data": {
            "text/plain": [
              "(31072, 65094)"
            ]
          },
          "metadata": {},
          "execution_count": 7
        }
      ]
    },
    {
      "cell_type": "code",
      "source": [
        "inputs = list()\n",
        "teacher_signals = list()\n",
        "\n",
        "for D in tqdm(tmp_datas):\n",
        "    tmp = D[\"tokenized_review\"] + [0] * (max_sentence_length - len(D[\"tokenized_review\"]))\n",
        "    inputs.append(tmp)\n",
        "    teacher_signals.append(D[\"sentiment\"])\n",
        "\n",
        "tmp = list(zip(inputs, teacher_signals))\n",
        "train_tmp, test_tmp = train_test_split(tmp, test_size = 0.1)\n",
        "train_inputs, train_teacher_signals = zip(*train_tmp)\n",
        "test_inputs, test_teacher_signals = zip(*test_tmp)\n",
        "\n",
        "train_inputs = tf.constant(train_inputs)\n",
        "train_teacher_signals = tf.constant(train_teacher_signals)\n",
        "test_inputs = tf.constant(test_inputs)\n",
        "test_teacher_signals = tf.constant(test_teacher_signals)\n",
        "\n",
        "#\n",
        "train_inputs.shape, train_teacher_signals.shape, test_inputs.shape, test_teacher_signals.shape"
      ],
      "metadata": {
        "colab": {
          "base_uri": "https://localhost:8080/"
        },
        "id": "mHkmExm6GHaE",
        "outputId": "80987594-f78f-4b36-b0d6-3a79be7e2e28"
      },
      "execution_count": 8,
      "outputs": [
        {
          "output_type": "stream",
          "name": "stderr",
          "text": [
            "100%|██████████| 31072/31072 [00:00<00:00, 164331.11it/s]\n"
          ]
        },
        {
          "output_type": "execute_result",
          "data": {
            "text/plain": [
              "(TensorShape([27964, 256]),\n",
              " TensorShape([27964]),\n",
              " TensorShape([3108, 256]),\n",
              " TensorShape([3108]))"
            ]
          },
          "metadata": {},
          "execution_count": 8
        }
      ]
    },
    {
      "cell_type": "code",
      "source": [
        "def build_model():\n",
        "    input = layers.Input(shape = train_inputs.shape[1:])\n",
        "    x = layers.Embedding(input_dim = len(word_to_index.keys()),\n",
        "                         output_dim = 256,\n",
        "                         mask_zero = True)(input)\n",
        "    x = layers.LSTM(units = 512)(x)\n",
        "    x = layers.Dense(units = 512, activation = \"relu\")(x)\n",
        "    x = layers.Dense(units = 256, activation = \"relu\")(x)\n",
        "    output = layers.Dense(units = 1, activation = \"sigmoid\")(x)\n",
        "\n",
        "    return models.Model(input, output)\n",
        "\n",
        "model = build_model()\n",
        "model.summary()\n",
        "model.compile(loss = losses.BinaryCrossentropy(),\n",
        "              optimizer = optimizers.Adam(learning_rate = 0.001),\n",
        "              metrics = metrics.BinaryAccuracy())\n",
        "model.fit(x = train_inputs, y = train_teacher_signals, batch_size = 256, epochs = 5,\n",
        "          validation_data = (test_inputs, test_teacher_signals))"
      ],
      "metadata": {
        "colab": {
          "base_uri": "https://localhost:8080/"
        },
        "id": "CqgQINDgHnHo",
        "outputId": "89984a1f-c9ba-4481-fd42-a53bda9d870a"
      },
      "execution_count": 10,
      "outputs": [
        {
          "output_type": "stream",
          "name": "stdout",
          "text": [
            "Model: \"model_1\"\n",
            "_________________________________________________________________\n",
            " Layer (type)                Output Shape              Param #   \n",
            "=================================================================\n",
            " input_2 (InputLayer)        [(None, 256)]             0         \n",
            "                                                                 \n",
            " embedding_1 (Embedding)     (None, 256, 256)          16664832  \n",
            "                                                                 \n",
            " lstm_1 (LSTM)               (None, 512)               1574912   \n",
            "                                                                 \n",
            " dense_2 (Dense)             (None, 512)               262656    \n",
            "                                                                 \n",
            " dense_3 (Dense)             (None, 256)               131328    \n",
            "                                                                 \n",
            " dense_4 (Dense)             (None, 1)                 257       \n",
            "                                                                 \n",
            "=================================================================\n",
            "Total params: 18633985 (71.08 MB)\n",
            "Trainable params: 18633985 (71.08 MB)\n",
            "Non-trainable params: 0 (0.00 Byte)\n",
            "_________________________________________________________________\n",
            "Epoch 1/5\n",
            "110/110 [==============================] - 28s 205ms/step - loss: 0.6672 - binary_accuracy: 0.5948 - val_loss: 0.4136 - val_binary_accuracy: 0.7918\n",
            "Epoch 2/5\n",
            "110/110 [==============================] - 19s 175ms/step - loss: 0.3956 - binary_accuracy: 0.8218 - val_loss: 0.4403 - val_binary_accuracy: 0.7995\n",
            "Epoch 3/5\n",
            "110/110 [==============================] - 20s 185ms/step - loss: 0.2596 - binary_accuracy: 0.9001 - val_loss: 0.3512 - val_binary_accuracy: 0.8826\n",
            "Epoch 4/5\n",
            "110/110 [==============================] - 20s 181ms/step - loss: 0.1145 - binary_accuracy: 0.9610 - val_loss: 0.3550 - val_binary_accuracy: 0.8742\n",
            "Epoch 5/5\n",
            "110/110 [==============================] - 19s 169ms/step - loss: 0.0564 - binary_accuracy: 0.9815 - val_loss: 0.4236 - val_binary_accuracy: 0.8607\n"
          ]
        },
        {
          "output_type": "execute_result",
          "data": {
            "text/plain": [
              "<keras.src.callbacks.History at 0x785dd83bde40>"
            ]
          },
          "metadata": {},
          "execution_count": 10
        }
      ]
    },
    {
      "cell_type": "code",
      "source": [
        "model.evaluate(test_inputs, test_teacher_signals)"
      ],
      "metadata": {
        "colab": {
          "base_uri": "https://localhost:8080/"
        },
        "id": "t4bLsqLkI5B9",
        "outputId": "a9887c0e-239c-472b-d5d5-1cee01be4bc3"
      },
      "execution_count": 11,
      "outputs": [
        {
          "output_type": "stream",
          "name": "stdout",
          "text": [
            "98/98 [==============================] - 2s 15ms/step - loss: 0.4236 - binary_accuracy: 0.8607\n"
          ]
        },
        {
          "output_type": "execute_result",
          "data": {
            "text/plain": [
              "[0.42361435294151306, 0.8606821298599243]"
            ]
          },
          "metadata": {},
          "execution_count": 11
        }
      ]
    }
  ],
  "metadata": {
    "colab": {
      "provenance": [],
      "gpuType": "T4"
    },
    "kernelspec": {
      "display_name": "Python 3",
      "name": "python3"
    },
    "language_info": {
      "name": "python"
    },
    "accelerator": "GPU"
  },
  "nbformat": 4,
  "nbformat_minor": 0
}